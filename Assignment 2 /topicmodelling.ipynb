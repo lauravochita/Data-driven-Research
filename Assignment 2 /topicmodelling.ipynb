{
 "cells": [
  {
   "cell_type": "markdown",
   "metadata": {
    "id": "KV-UrkvK3HBQ"
   },
   "source": [
    "# Data-Driven Research Assignment 2: Topic Modeling\n",
    "This notebook contains the second, collaborative, graded assignment of the 2023 Data-Driven Research course. In this assignment you'll use a topic modeling tool in order to uncover the ''topics'' of a large set of reviews of popular films. \n",
    "\n",
    "To complete the assignment, complete **Part 1, Part 2, Part 3 and Part 4** of the **Your Model** section at the end."
   ]
  },
  {
   "cell_type": "markdown",
   "metadata": {
    "id": "13WY-Pd4m1Nq"
   },
   "source": [
    "This is a collaborative assignment. In the text cell below, please include all the names of your group members.\n",
    "\n",
    "If you used code or a solution from the internet (such as StackOverflow) or another external resource, please make reference to it (in any format). Unattributed copied code will be considered plagiarism and therefore fraud.\n"
   ]
  },
  {
   "cell_type": "markdown",
   "metadata": {
    "id": "FnYtJb9olXd0"
   },
   "source": [
    "Authors of this answer: George 13842013, Raluca; 13936395, Laura 13982540, Lili 13816314, Daria 13755013"
   ]
  },
  {
   "cell_type": "markdown",
   "metadata": {
    "id": "gV4eOyrVqRHQ"
   },
   "source": [
    "# 1. Introduction\n",
    "\n",
    "You'll use a Topic Modelling tool from Gensim, a popular library for topic modelling in Python, though these days mainly known for its implementation of Word2Vec to train word embeddings (dense representations). Using this library, you will model topics based on reviews of popular films. The reviews are stored in plain text files, organized by film and rating. The aim of this exercise is to familiarize you with the topic modeling process and its output and to get insight in what kinds of topics are modeled."
   ]
  },
  {
   "cell_type": "markdown",
   "metadata": {
    "id": "uaPXV7qlq9oa"
   },
   "source": [
    "# 2. Preparation\n",
    "\n",
    "This assignment comes with the following files:\n",
    "\n",
    "\n",
    "1.   The reviews of the films. This is the data in which we want to find topics. They are found in the movie2k/txt_sentoken directory. There are then two types: negative reviews (neg directory) and positive reviews (pos directory). The reviews are already tokenized.\n",
    "2.   Stopword list files. They are found in the stopwords directory.\n",
    "\n",
    "Let's start by loading the movie reviews from the files (I'll do it for you):"
   ]
  },
  {
   "cell_type": "code",
   "execution_count": 2,
   "metadata": {
    "id": "jp-zI1sNQfPD",
    "ExecuteTime": {
     "start_time": "2023-04-22T14:47:37.791670Z",
     "end_time": "2023-04-22T14:47:38.157016Z"
    },
    "colab": {
     "base_uri": "https://localhost:8080/"
    },
    "outputId": "776772b3-dd25-46c7-e1ba-57509b55ede9"
   },
   "outputs": [
    {
     "name": "stdout",
     "output_type": "stream",
     "text": [
      "Loaded reviews from movie2k/txt_sentoken/pos containing 787051 tokens in total.\n",
      "Loaded reviews from movie2k/txt_sentoken/neg containing 705630 tokens in total.\n"
     ]
    }
   ],
   "source": [
    "import os\n",
    "\n",
    "def load_reviews(folder_path):\n",
    "    reviews = [] #Make a list to put the reviews in\n",
    "    reviewnames = [] # Make a list to put the review filenames in (to be able to look them up later)\n",
    "    tokens = 0 #Make a counter for the number of tokens\n",
    "    \n",
    "    for file in os.listdir(folder_path):\n",
    "        #Loop through all the text files in the folder, each containing one review\n",
    "        \n",
    "        if not file.endswith('.txt'):  #Only read text files\n",
    "            continue\n",
    "\n",
    "        file_path = os.path.join(folder_path, file)\n",
    "\n",
    "        #Open the text file and read its contents\n",
    "        with open(file_path, encoding='utf-8') as infile:\n",
    "            review = infile.read()\n",
    "        reviewnames.append(file)\n",
    "            \n",
    "        # Turn the string with the review into a list of words (this is easy because it is already tokenized)\n",
    "        review = review.split()\n",
    "        # And add it to the list\n",
    "        reviews.append(review)\n",
    "        # To count the number of tokens processed so far\n",
    "        tokens = tokens + len(review)\n",
    "\n",
    "    print(f\"Loaded reviews from {folder_path} containing {tokens} tokens in total.\") \n",
    "    return reviews, reviewnames\n",
    "        \n",
    "folder_path = \"movie2k/txt_sentoken\"\n",
    "    \n",
    "movie_reviews_pos, movie_reviewnames_pos = load_reviews(folder_path + \"/pos\") #Load the positive reviews\n",
    "movie_reviews_neg, movie_reviewnames_neg = load_reviews(folder_path + \"/neg\") #Load the negative reviews\n",
    "\n",
    "movie_reviews = movie_reviews_pos + movie_reviews_neg #Combine the lists of positive and negative reviews into one\n",
    "movie_reviewnames = movie_reviewnames_pos + movie_reviewnames_neg #The same for the list of filenames"
   ]
  },
  {
   "cell_type": "markdown",
   "metadata": {
    "id": "tUb1NfU7Q_do"
   },
   "source": [
    "If you are working on Google Colab, you will probably have to change the path to the files to something that Google Colab has access to. For example, you could put the files on your Google Drive and then load them from there, as we did in Coding the Humanities. For more details about how to work with files in Python and load them from Google Drive, have a look at the Coding the Humanities course notebook on Files: https://github.com/bloemj/2023-coding-the-humanities/blob/main/notebooks/4_ReadingAndWritingFiles.ipynb\n",
    "\n",
    "How to load files off Google Drive is explained at the beginning there."
   ]
  },
  {
   "cell_type": "code",
   "source": [
    "#from google.colab import drive\n",
    "#drive.mount('/content/drive')"
   ],
   "metadata": {
    "colab": {
     "base_uri": "https://localhost:8080/"
    },
    "id": "gDVhR1lSFf8F",
    "outputId": "3468bc9a-f228-481a-96fd-340a3d205f3c"
   },
   "execution_count": 4,
   "outputs": []
  },
  {
   "cell_type": "markdown",
   "metadata": {
    "id": "NlvYaYwuDSHH"
   },
   "source": [
    "## Preprocessing\n",
    "\n",
    "Now that we have loaded the text, you might want to perform some pre-processing steps to be able to create a better bag-of-words model in which all forms of a word are mapped to a single number. For example, you could remove the punctuation characters, or you could perform lemmatization or stemming, which we discussed in the lecture. This would be the place to do it by writing a preprocessing function that accepts a list of movie reviews as its argument and returns a preprocessed list of movie reviews. Feel free to use your knowledge of text normalization from Coding the Humanities or the functions you wrote then. Here is some information on how to perform stemming with NLTK: https://www.nltk.org/howto/stem.html\n",
    "\n",
    "You can also try other forms of preprocessing, if you are able to do it.\n",
    "\n",
    "Make sure to also keep the unmodified reviews, so you can compare the results with preprocessing and without preprocessing.\n",
    "\n",
    "**Part 1: Preprocessing**\n",
    "\n",
    "You can also skip this part for now - it is not required to perform the topic modelling, but you will get better results."
   ]
  },
  {
   "cell_type": "code",
   "execution_count": 5,
   "metadata": {
    "colab": {
     "base_uri": "https://localhost:8080/"
    },
    "id": "NxcqNqkpDSHI",
    "outputId": "cc123c25-a6db-451b-d9a3-868b20da6448"
   },
   "outputs": [
    {
     "name": "stdout",
     "output_type": "stream",
     "text": [
      "showing info https://raw.githubusercontent.com/nltk/nltk_data/gh-pages/index.xml\n"
     ]
    }
   ],
   "source": [
    "#Code that fixes macOS nltk ssl errors\n",
    "import nltk\n",
    "import ssl\n",
    "\n",
    "try:\n",
    "    _create_unverified_https_context = ssl._create_unverified_context\n",
    "except AttributeError:\n",
    "    pass\n",
    "else:\n",
    "    ssl._create_default_https_context = _create_unverified_https_context\n",
    "\n",
    "nltk.download()\n",
    "import string\n"
   ]
  },
  {
   "cell_type": "code",
   "source": [
    "#Import the necessary libraries\n",
    "import nltk\n",
    "nltk.download('wordnet')\n",
    "from nltk.corpus import stopwords\n",
    "from nltk.tokenize import word_tokenize\n",
    "from nltk.stem import WordNetLemmatizer, PorterStemmer\n",
    "import string\n",
    "#Defining the preprocessing function\n",
    "def preprocess_reviews(reviews):    #define the preprocessing function that takes a list of reviews as argument\n",
    "    '''This function takes a list of reviews as argument and returns a list of unprocessed and preprocessed reviews\n",
    "    Input: list of reviews\n",
    "    Output: list of unprocessed and preprocessed reviews'''\n",
    "\n",
    "    #initialize 2 empty lists \n",
    "    processed_reviews = [] #for processed reviews\n",
    "    unprocessed_reviews = [] #for unprocessedreviews\n",
    "\n",
    "    #load sets of NLTK stopwords and punctuation\n",
    "    stop_words = set(stopwords.words('english'))\n",
    "    punctuation = set(string.punctuation)\n",
    "\n",
    "    #initialize NLTK lemmatizer and stemmer\n",
    "    lemmatizer = WordNetLemmatizer()\n",
    "    stemmer = PorterStemmer()\n",
    "\n",
    "    #loop through each review in the list\n",
    "    for review in reviews:\n",
    "        #turn the list of words back into a string\n",
    "        review_str = ' '.join(review)\n",
    "        \n",
    "        #perform text tokenization on the string\n",
    "        words = word_tokenize(review_str)\n",
    "\n",
    "        #list comprehension that performs multiple tasks\n",
    "        #converts each word to lowercase\n",
    "        #using if statement, check if a word is in the 'stopwords' or 'punctuation' set and filters them out\n",
    "        words = [word.lower() for word in words if word.lower() not in stop_words and word.lower() not in punctuation]\n",
    "        #Remove apostrophes\n",
    "        words = [word.replace(\"'\", \"\") for word in words]\n",
    "        #Remove quotation marks\n",
    "        words = [word.replace('\"', '') for word in words]\n",
    "        #Remove empty strings\n",
    "        words = [word for word in words if word != '']\n",
    "        #perform lematization and stemming on each word\n",
    "        words = [lemmatizer.lemmatize(stemmer.stem(word)) for word in words]\n",
    "\n",
    "        #add the processed review to the list\n",
    "        processed_reviews.append(words)\n",
    "\n",
    "        #add the unprocessed review to the list\n",
    "        unprocessed_reviews.append(review_str)\n",
    "\n",
    "    return processed_reviews, unprocessed_reviews\n"
   ],
   "metadata": {
    "colab": {
     "base_uri": "https://localhost:8080/"
    },
    "id": "IUODjGGFJtii",
    "outputId": "39002942-16dd-4204-951c-c638718013d8"
   },
   "execution_count": 6,
   "outputs": [
    {
     "name": "stderr",
     "output_type": "stream",
     "text": [
      "[nltk_data] Downloading package wordnet to /Users/george/nltk_data...\n",
      "[nltk_data]   Package wordnet is already up-to-date!\n"
     ]
    }
   ]
  },
  {
   "cell_type": "code",
   "source": [
    "#Call the preprocessing function\n",
    "processed_reviews, unprocessed_reviews = preprocess_reviews(movie_reviews)\n",
    "print(processed_reviews[:2])  # Print the first two processed reviews\n",
    "print(unprocessed_reviews[:2])  # Print the first two unprocessed reviews"
   ],
   "metadata": {
    "colab": {
     "base_uri": "https://localhost:8080/"
    },
    "id": "1oZqSK1JJvwd",
    "outputId": "c43a2ef9-9a3e-4a55-d2ba-cdb00ddb04c5"
   },
   "execution_count": 7,
   "outputs": [
    {
     "name": "stdout",
     "output_type": "stream",
     "text": [
      "[['assum', 'noth', 'phrase', 'perhap', 'one', 'use', '1990', 's', 'first', 'impress', 'rumor', 'hardli', 'ever', 'seem', 'phrase', 'especi', 'goe', 'oscar', 'novak', 'architect', 'main', 'focu', 'three', 'tango', 'delight', 'funni', 'romant', 'comedi', 'assumpt', 'novak', 'matthew', 'perri', 'shi', 'clumsi', 'chicago', 'base', 'architect', 'along', 'openli', 'gay', 'partner', 'peter', 'steinberg', 'oliv', 'platt', 'fight', 'project', 'day', 'day', 'one', 'job', 'restor', 'popular', 'build', 'charl', 'newman', 'dylan', 'mcdermott', 'rich', 'well-known', 'businessman', 'charl', 'immedi', 'take', 'like', 'oscar', 'enjoy', 'person', 'sen', 'humor', 'see', 'oscar', 'someon', 'could', 'trust', 'charl', 'ask', 'watch', 'girlfriend', 'unpredict', 'adventur', 'girl', 'name', 'ami', 'post', 'neve', 'campbel', 'make', 'live', 'blow', 'glass', 'charl', 'want', 'know', 'talk', 'goe', 'point', 'make', 'sure', 's', 'see', 'someon', 'el', 'cours', 'oscar', 'gladli', 'take', 'job', 'meet', 'ami', 'art', 'show', 'spark', 'fli', 'two', 'get', 'go', 'oscar', 'feel', 'found', 'one', 'meant', 'content', 'idea', 'ami', 'well', 'anoth', 'popular', 'phrase', '90', 's', '``', 'good', 'thing', 'must', 'come', 'end', '``', 'stay', 'true', 'oscar', 'well', 'charl', 'walk', 'ami', 'oscar', 'drink', 'one', 'night', 'oscar', 'ami', 'becom', 'great', 'friend', 'nt', 'seem', 'mind', 'think', 'oscar', 'gay', 's', 'afraid', 'share', 'either', 'oscar', 'stand', 'shock', 'word', '``', 'swear', 'nt', 'gay', 'oscar', 'd', 'kill', '``', 'mutter', 'flamboyantli', 'charl', 'mouth', 'word', 'spread', 'instantli', 'town', 'oscar', '``', 'come', '``', 'suppos', 'gay', 'tell', 'everyon', 'nt', 'one', 'would', 'immedi', 'think', 'would', 'deni', 'fact', 'numer', 'occurr', 'come', 'oscar', 'result', 'fact', 'deni', 'fact', 'could', 'lose', 'job', 'charl', 'matthew', 'perri', 'nt', 'escap', 'charact', 'chandler', 'alreadi', 'classic', 'v', 'comedi', '``', 'friend', '``', 'oscar', 'novak', 'chandler', 'clueless', 'shi', 'sensit', 'nonetheless', 'perri', 'hilari', 'show', 'handl', 'drama', 'obvious', 'charact', 'suffer', 'quit', 'bit', 's', 'wonder', 'see', 'neve', 'campbel', 'outsid', 'horror', 'movi', 'star', 'scream', '1', '2', 'upcom', 'scream', '3', 'handl', 'comedi', 'superbl', 'voic', 'smile', 'person', 'perfect', 'romant', 'comedies-', 'stay', 'genr', 'neve', 'neve', 'delight', 'conflict', 'charact', 'feel', 'love', 'oscar', 'know', 'base', 'rumor', 'gay', 'usual', 'campbel', 'likabl', 'likabl', 'charact', 'unlik', 'two', 'lead', 'dylan', 'mcdermott', 'flat', 'dialogu', 'never', 'convinc', 'charact', 'present', 'mcdermott', 'set', 'dull', 'tone', 'scene', 'horribl', 'act', 'stick', 'v', 'drama', 'practic', 'dylan', 'major', 'weak', 'spot', 'three', 'tango', 'direct', 'damon', 'santostefano', 'origin', 'techniqu', 'use', 'whatsoev', 'three', 'tango', 'lucki', 'script', 'edgi', 'perri', 'campbel', 'wonder', 'comedi', 'el', 'film', 'would', 'disast', 'plain', 'bore', 'look', 'three', 'tango', 'film', 'done', 'mani', 'time', 'plot', 'suspici', 'close', '1998', 's', 'object', 'affect', 'plot', 'never', 'complet', 'well', 'three', 'tango', 's', 'script', 'written', 'rodney', 'patrick', 'vaccaro', 'alin', 'brosh', 'mckenna', 'fun', 'fast', 'funni', 'deliv', 'origin', 'hilari', 'gay', 'joke', 'run', 'mill', 'materi', 'certain', 'snappi', 'dialogu', 'charact', 'alway', 'keep', 'smile', 'unlik', 'last', 'summer', 's', 'south', 'park', 'bigger', 'longer', 'uncut', '1997', 's', 'three', 'tango', 'comedi', 'gay', 'element', 'crude', 'vulgar', 'script', 'wise', 'take', 'rout', 'gay', 'ca', 'nt', 'nt', 'think', 'anyway', 'offend', 'light', 'play', 'comedi', 'prove', 'gay', 'coupl', 'audienc', 'laugh', 'constantli', 'three', 'tango', 's', 'climax', 'hilari', 'clever', 'scene', 'pure', 'ironi', 'base', 'outcom', 'romantic-mistaken', 'ident', 'comedi', 'three', 'tango', 'gem', 'bottom', 'line', 'three', 'tango', 'light', 'sharp', 'snappi', 'romant', 'comedi', 'superb', 'end', 'great', 'star', 'one', 'better', 'romant', 'comedi', '1999'], ['plot', 'derek', 'zooland', 'male', 'model', 'also', 'dumb', 'impression', 'reason', 'secretli', 'hire', 'train', 'secret', 'even', 'nt', 'know', 'underground', 'fashion', 'syndic', 'assassin', 'prime', 'minist', 'malaysia', 'want', 'abolish', 'child', 'labor', 'countri', 'zooland', 'fulfil', 'dirti', 'deed', 'zooland', 'ever', 'grace', 'world', 'new', '``', 'look', '``', 'funni', 'movi', 'find', 'critiqu', 's', 'place', 'world', '``', 'stupid', 'comedi', '``', 'film', 'nt', 'pretend', 'take', 'serious', 'base', 'idiot', 'premis', 'fill', 'dumb', 'joke', 's', 'also', 'time', 'mani', 'would', 'argu', 'difficult', 'period', 'histori', 'might', 'ideal', 'circumst', '``', 'relax', '``', 'watch', 'someth', 'complet', 'frivol', 'well', 're', 'mood', 'serious', 'mindless', 'entertain', 'ben', 'stiller', 'cast', 'mani', 'assembl', 'one', 'origin', 'dumb', 'comedi', 'time', 'cours', 'comedi', 'usual', 'subject', 'could', 'see', 'see', 'film', 'simpli', 'stupid', 'unfunni', 'other', 'grant', '``', 'stupid', '``', 'consid', 'funni', 'instead', 'person', 'enjoy', 'part', 'crack', 'loudli', 'coupl', 'specif', 'sequenc', 'love', 'derek', 'zooland', 'charact', 'unrestrain', 'whip', 'releas', 'upon', 'fashion', 'industri', 'snap', 'also', 'nice', 'see', 'sever', 'real-lif', 'model', 'small', 'role', 'movi', 'take', 'serious', 're', 'type', 'person', 'like', 'celebr', 'cameo', 'film', 'well', 'nt', 'look', 'dozen', 'famou', 'face', 'show', 'includ', 'vinc', 'vaughn', 'billi', 'zane', 'winona', 'ryder', 'christian', 'slater', 'david', 'duchovni', 'natali', 'portman', 'mani', 'mani', 'other', 'especi', 'like', 'andi', 'dick', 's', 'complet', 'make-ov', 'masseus', 'hi-lari', 'film', 'type', 'bound', 'stuff', 'simpli', 'nt', 'work', 'particular', 'nt', 'strike', 'fanci', 'includ', 'bulimia', '``', 'orgi', '``', 'sequenc', 'christin', 'taylor', 'break-danc', 'fight', 'also', 'never', 'get', 'use', 'real', 'countri', 'plot', 'like', '``', 'make', '``', 'countri', 'instead', 'zero', 'certain', 'peopl', 'also', 'could', 'done', 'le', 'taylor', 'charact', 'gener', 'sinc', 'nt', 'interest', 'seem', 'slow', 'thing', 'everi', 'zooland', 'dude', 'misstep', 'noth', 'compar', 'memor', 'scene', 'definit', 'work', 'almost', 'piss', '``', 'ga', 'station', '``', 'disast', 'absolut', 'ador', '``', 'walk-off', '``', 'contest', 'david', 'bowi', 'judg', 'le', 'appreci', 'mani', 'zooland', 's', 'moron', 'one-lin', '``', 'merman', 'merman', '``', 'dare', 'get', '``', 'monkey', '``', 'photo', 'shoot', 'head', 'see', 'movi', '``', 're', 'monkey', 'derek', 'monkey', '``', 'also', 'realli', 'like', 'soundtrack', 'pace', 'film', 'zip', 'zag', 'establish', 'nice', 'rhythm', 's', 'note', 'movi', 'dumb', 'everyon', 'guess', 'laugh', 'trailer', 'like', 'enjoy', 'mani', 'quip', 'actual', 'pictur', 'well', 'thought', 'trailer', 'dumb', 'skip', 'dodo', 'bird', 'go', 'rent', 'austin', 'power', 'someth', 'film', 'obviou', 'influenc', 'blue', 'steel', 'babi', 'yeah', 's', 'joblo', 'come', 'austin', 'power', '7/10', 'austin', 'power', '2', '7/10', 'deuc', 'bigalow', '7/10', 'dude', 's', 'car', '7/10', 'freddi', 'got', 'finger', '5/10', 'jay', 'silent', 'bob', 'strike', 'back', '8/10', 'joe', 'dirt', '5/10', 'meet', 'parent', '8/10', 'say', 'nt', '3/10']]\n",
      "['assume nothing . the phrase is perhaps one of the most used of the 1990\\'s , as first impressions and rumors are hardly ever what they seem to be . the phrase especially goes for oscar novak , an architect who is the main focus of three to tango , a delightful , funny romantic comedy about assumptions and being yourself . novak ( matthew perry ) , a shy , clumsy , chicago based architect , along with openly gay partner , peter steinberg ( oliver platt ) , fights for projects day in and day out . one of these is the job of restoring a popular building for charles newman ( dylan mcdermott ) , a rich , well-known businessman . charles immediately takes a liking to oscar , as he enjoys his personality and sense of humor . seeing oscar as someone he could trust , charles asks him to watch his girlfriend , an unpredictable , adventurous girl named amy post ( neve campbell ) , who makes a living by blowing glass . charles wants to know who she talks to , what she does , and where she goes . the point ? to make sure she\\'s not seeing someone else , of course . oscar gladly takes the job , and meets amy at an art show of hers , and sparks fly between the two from the get go . oscar feels he has found the one meant for him , and he is content with the idea of being with amy . well , another popular phrase of the 90\\'s is \" all good things must come to an end , \" and this stays true for oscar as well . charles walks in on amy and oscar having a drink one night , as oscar and amy have become great friends , but he doesn\\'t seem to mind . why is this ? he thinks oscar is gay . he\\'s not afraid to share this with him either . oscar stands in shock after the words , \" i swear if you weren\\'t gay oscar , i\\'d have to kill you , \" are muttered flamboyantly from charles\\' mouth . the word spreads instantly through town . will oscar \" come out \" of his supposed gayness , or will he tell everyone that he isn\\'t ? one would immediately think he would deny the fact , but numerous occurrences come to oscar , which result in the fact that if he denies the fact , he could lose his job with charles . matthew perry doesn\\'t escape his character as chandler on the already classic t . v . comedy \" friends , \" as both oscar novak and chandler are clueless , shy , and sensitive . nonetheless , perry is hilarious here , and shows that he can handle drama , as obviously , his character suffers quite a bit here . it\\'s wonderful to see neve campbell outside of a horror movie , ( she was the star of scream 1 and 2 , and the upcoming scream 3 ) as she handles comedy superbly here . her voice , smile , and personality are more than perfect for romantic comedies- stay with this genre , neve . neve is delightful as her conflicted character , who feels love for oscar , but knows , based on rumors , that he is gay . as usual , campbell is likable as her likable character . unlike the other two leads here , dylan mcdermott is flat in his dialogue , and is never convincing . when his character his present , mcdermott sets a dull tone to the scene with his horrible acting . stick to the t . v . drama , the practice , dylan . the major weak spot in three to tango is the direction of damon santostefano . no originality or technique is used whatsoever . three to tango is lucky that the script is so edgy and that perry and campbell are wonderful in comedy , or else the film would have been a disaster , as it is just plain boring to look at . three to tango is a film done many times before , as the plot is suspiciously close to 1998\\'s the object of my affection , but the plot has never been completed so well . three to tango\\'s script , written by rodney patrick vaccaro and aline brosh mckenna is fun , fast , and funny , delivering not only original , hilarious gay jokes ( not your run of the mill material ) , but a certain snappiness in the dialogue between characters that always keeps you smiling . unlike last summer\\'s south park : bigger , longer , and uncut and 1997\\'s in & out , three to tango is a comedy in which the gay element is not crude or vulgar . the script is wise to take this route , as gays can\\'t ( i don\\'t think so , anyway ) be offended by this light , playful comedy . ( to prove this , a gay couple was in the audience who were laughing constantly . ) three to tango\\'s climax is a hilarious , clever scene that is pure irony based on the outcome of most romantic-mistaken identity comedies . three to tango is a gem . the bottom line : three to tango is a light , sharp , snappy romantic comedy with a superb ending , and great stars . one of the better romantic comedies of 1999 .', 'plot : derek zoolander is a male model . he is also very dumb and impressionable . for that reason , he is secretly hired and trained ( so secret , that even he doesn\\'t know about it ) by an underground fashion syndicate to assassinate the prime minister of malaysia , who wants to abolish child labor in his country . will zoolander fulfill the dirty deed ? will zoolander ever grace the world his new \" look \" ? is this a funny movie ? find out below . . . critique : there\\'s a place in our world for \" stupid comedies \" . films which don\\'t pretend to take themselves seriously , are based on idiotic premises and filled with dumb jokes . there\\'s also a time for them and many would argue that this difficult period of our history , might be an ideal circumstance during which to \" relax \" by watching something so completely frivolous . well , if you\\'re in the mood for some seriously mindless entertainment , ben stiller and his cast of many have assembled one of the more original dumb comedies in some time . of course , comedies as such are usually very subjective and i could see how some will see this film simply as stupid and unfunny , while others will grant them the \" stupid \" , but consider it funny instead . i personally enjoyed it for the most part , cracked up loudly during a couple of specific sequences and loved the derek zoolander character and the unrestrained whipping they released upon the fashion industry . snap ! it was also nice to see several real-life models with small roles in the movie , not taking themselves too seriously . and if you\\'re the type of person who likes celebrity cameos in films , well , don\\'t look any further because dozens of famous faces show up here including vince vaughn , billy zane , winona ryder , christian slater , david duchovny , natalie portman and many , many others . i especially liked andy dick\\'s complete make-over as the masseuse . hi-larious ! but with all films of this type , there is bound to be some stuff that simply doesn\\'t work . a few particulars which didn\\'t strike my fancy included the bulimia and \" orgy \" sequence with christine taylor , the break-dance fighting , and i also never get why they use real countries in plots like this ( why not just \" make up \" a country , instead of zeroing in on a certain people ? ) . i also could have done with less of the taylor character in general , since she wasn\\'t all that interesting and seemed to slow things down every now and then ( more zoolander , dude ! ) . but those few missteps were nothing compared to some of the more memorable scenes which definitely did work for me ! i almost pissed myself during the \" gas station \" disaster , absolutely adored the \" walk-off \" contest ( with david bowie as the judge , no less ) and appreciated many of zoolander\\'s moronic one-liners ( \" i was a merman . . . a merman ! ! \" ) . and i dare you to get his \" monkey \" photo shoot out of your head after seeing this movie ( \" you\\'re a monkey , derek . . . a monkey ! \" ) i also really liked the soundtrack and the pace of the film , both of which zipped and zagged , and established a nice rhythm to it all . again , it\\'s to note that this movie is dumb and not for everyone , but my guess is that if you laughed at the trailer , you will likely enjoy many of the quips in the actual picture as well . if you thought the trailer was dumb , skip this dodo bird and go rent austin powers again or something , a film from which there is an obvious influence here . blue steel , baby . . . yeah ! ! ! where\\'s joblo coming from ? austin powers ( 7/10 ) - austin powers 2 ( 7/10 ) - deuce bigalow ( 7/10 ) - dude , where\\'s my car ( 7/10 ) - freddy got fingered ( 5/10 ) - jay & silent bob strike back ( 8/10 ) - joe dirt ( 5/10 ) - meet the parents ( 8/10 ) - say it isn\\'t so ( 3/10 )']\n"
     ]
    }
   ]
  },
  {
   "cell_type": "markdown",
   "metadata": {
    "id": "fYf1LwMRlXd3"
   },
   "source": [
    "# 3. Topic Modelling using Gensim\n",
    "\n",
    "Gensim offers an implementation of Latent Dirichlet Allocation (LDA), the most popular topic modelling algorithm, which we discussed in the lecture. If you are working on Google Colab, it is normally already installed there. Otherwise, you can install it with `pip install --upgrade gensim` or if you are using Conda, `conda install -c conda-forge gensim`.\n",
    "\n",
    "Let's load it, and some other things we use:"
   ]
  },
  {
   "cell_type": "code",
   "execution_count": 8,
   "metadata": {
    "id": "w3KtsubolXd3"
   },
   "outputs": [
    {
     "name": "stdout",
     "output_type": "stream",
     "text": [
      "4.3.1\n"
     ]
    }
   ],
   "source": [
    "#Import the necessary libraries\n",
    "import gensim\n",
    "import gensim.corpora as corpora\n",
    "import gensim.models as models\n",
    "import itertools\n",
    "from operator import itemgetter\n",
    "print(gensim.__version__)"
   ]
  },
  {
   "cell_type": "markdown",
   "metadata": {
    "id": "pOrYQV90lXd6"
   },
   "source": [
    "## Constructing the bag-of-words model\n",
    "\n",
    "The `gensim.corpora.Dictionary()` class allows you to map words to numbers, which is what we need to make a bag-of-words model. In particular, the doc2bow() function converts a collection of words to a bag-of-words representation:"
   ]
  },
  {
   "cell_type": "code",
   "execution_count": 9,
   "metadata": {
    "id": "OXwSQdqRtUx6"
   },
   "outputs": [],
   "source": [
    "#Create a bag-of-words model for the unprocessed reviews\n",
    "movie_dictionary = corpora.Dictionary(movie_reviews)\n",
    "movie_bow_corpus = [movie_dictionary.doc2bow(d) for d in movie_reviews]"
   ]
  },
  {
   "cell_type": "markdown",
   "metadata": {
    "id": "MecZJKXUDSHL"
   },
   "source": [
    "Let's see what happened:"
   ]
  },
  {
   "cell_type": "code",
   "execution_count": 10,
   "metadata": {
    "id": "0Ebu7mfsDSHL"
   },
   "outputs": [
    {
     "name": "stdout",
     "output_type": "stream",
     "text": [
      "Number of unique tokens in the dataset: 50920\n",
      "\n",
      "The first 11 words in the bag-of-words model:\n",
      "{'\"': 0, '&': 1, '(': 2, ')': 3, ',': 4, '.': 5, '1': 6, \"1990's\": 7, \"1997's\": 8, \"1998's\": 9, '1999': 10, '2': 11}\n",
      "\n",
      "The start of the first review:\n",
      "['assume', 'nothing', '.', 'the', 'phrase', 'is', 'perhaps', 'one', 'of', 'the', 'most', 'used', 'of', 'the', \"1990's\", ',', 'as', 'first', 'impressions', 'and', 'rumors', 'are', 'hardly', 'ever', 'what', 'they', 'seem', 'to', 'be', '.', 'the', 'phrase', 'especially', 'goes', 'for', 'oscar', 'novak', ',', 'an', 'architect', 'who', 'is', 'the', 'main', 'focus', 'of', 'three', 'to', 'tango', ',', 'a', 'delightful', ',', 'funny', 'romantic', 'comedy', 'about', 'assumptions', 'and', 'being', 'yourself', '.', 'novak', '(', 'matthew', 'perry', ')', ',', 'a', 'shy', ',', 'clumsy', ',', 'chicago', 'based', 'architect', ',', 'along', 'with', 'openly', 'gay', 'partner', ',', 'peter', 'steinberg', '(', 'oliver', 'platt', ')', ',', 'fights', 'for', 'projects', 'day', 'in', 'and', 'day', 'out', '.', 'one']\n",
      "\n",
      "The filename of the first review:\n",
      "cv839_21467.txt\n",
      "\n",
      "Most frequent words in the first review:\n",
      ", --> 77\n",
      ". --> 43\n",
      "the --> 40\n",
      "is --> 28\n",
      "to --> 27\n",
      "and --> 25\n",
      "a --> 19\n",
      "of --> 19\n",
      "as --> 15\n",
      "oscar --> 15\n",
      "he --> 13\n",
      "in --> 11\n",
      "his --> 10\n",
      "three --> 9\n",
      "\" --> 8\n",
      "( --> 8\n",
      ") --> 8\n",
      "that --> 8\n",
      "with --> 8\n",
      "comedy --> 7\n",
      "...\n"
     ]
    }
   ],
   "source": [
    "print('Number of unique tokens in the dataset:', len(movie_dictionary))\n",
    "\n",
    "#Checking the first 11 words in the bag-of-words model\n",
    "print('\\nThe first 11 words in the bag-of-words model:')\n",
    "print(dict(itertools.islice(movie_dictionary.token2id.items(), 12)))\n",
    "\n",
    "#Checking the first 100 words of the first review\n",
    "print('\\nThe start of the first review:')\n",
    "print(movie_reviews[0][:100])\n",
    "#And the filename of that review is...\n",
    "print('\\nThe filename of the first review:')\n",
    "print(movie_reviewnames[0])\n",
    "\n",
    "#Which words are used in that review?\n",
    "print('\\nMost frequent words in the first review:')\n",
    "for i, freq in sorted(movie_bow_corpus[0], key=itemgetter(1), reverse=True)[:20]:\n",
    "    print(movie_dictionary[i], \"-->\", freq)\n",
    "print(\"...\")"
   ]
  },
  {
   "cell_type": "markdown",
   "metadata": {
    "id": "Nw1K29XdDSHL"
   },
   "source": [
    "## The topic model\n",
    "\n",
    "Now, we can train our LDA model on this bag-of-words data by using `gensim.models.ldamodel.LDAModel()`.\n",
    "\n",
    "This model can take various parameters that specify what kind of model gets made. Some important ones:\n",
    "\n",
    "\n",
    "* num_topics: how many topics do we want? In what follows, we set the number of topics to 5, because we want to have a few topics that we can interpret, but the number of topics is data and application-dependent;\n",
    "* id2word: our bag-of-words dictionary needed to map ids to strings;\n",
    "* passes: how often we iterate over the entire corpus (default = 1). In general, the more passes, the higher the accuracy. This number is also called epochs in Artificial Intelligence and Machine Learning.\n",
    "\n",
    "Let's first make a model that finds 5 topics, and tries 25 times to improve its estimate. This code may take a while to run, as it is the process that creates the topic model. If it takes too long, you can reduce the number of passes, but the topics might be worse."
   ]
  },
  {
   "cell_type": "code",
   "execution_count": 11,
   "metadata": {
    "id": "UkT4re_Muowp"
   },
   "outputs": [],
   "source": [
    "#Creating the LDA model for the unprocessed reviews with 5 topics and 25 passes\n",
    "reviews_ldamodel = models.ldamodel.LdaModel(movie_bow_corpus, num_topics=5, id2word = movie_dictionary, passes=25)"
   ]
  },
  {
   "cell_type": "markdown",
   "metadata": {
    "id": "iCw1Zi0kDSHM"
   },
   "source": [
    "And let's have a look! An easy way to inspect the created topics is by using the `show_topics()` method, which prints the most representative word for each topic along with their probability."
   ]
  },
  {
   "cell_type": "code",
   "execution_count": 12,
   "metadata": {
    "id": "bVpBBioRDSHM"
   },
   "outputs": [
    {
     "data": {
      "text/plain": "[(0,\n  '0.051*\",\" + 0.049*\"the\" + 0.040*\".\" + 0.026*\"a\" + 0.024*\"of\" + 0.024*\"and\" + 0.019*\"to\" + 0.016*\"in\"'),\n (1,\n  '0.045*\".\" + 0.041*\",\" + 0.031*\"the\" + 0.020*\"to\" + 0.018*\"a\" + 0.017*\"and\" + 0.012*\"is\" + 0.012*\"of\"'),\n (2,\n  '0.058*\",\" + 0.047*\"the\" + 0.036*\".\" + 0.021*\"and\" + 0.021*\"a\" + 0.020*\"of\" + 0.016*\"to\" + 0.012*\"(\"'),\n (3,\n  '0.057*\",\" + 0.041*\".\" + 0.039*\"the\" + 0.028*\"a\" + 0.025*\"and\" + 0.021*\"to\" + 0.019*\"of\" + 0.018*\"is\"'),\n (4,\n  '0.057*\"the\" + 0.048*\",\" + 0.046*\".\" + 0.024*\"a\" + 0.024*\"of\" + 0.023*\"and\" + 0.022*\"to\" + 0.018*\"is\"')]"
     },
     "execution_count": 12,
     "metadata": {},
     "output_type": "execute_result"
    }
   ],
   "source": [
    "reviews_ldamodel.show_topics(num_words=8) #Show the top 8 words for each topic"
   ]
  },
  {
   "cell_type": "markdown",
   "metadata": {
    "id": "8OkAynamDSHM"
   },
   "source": [
    "There we go, we have a topic model. However, you can probably see that it is far from perfect and some uninteresting 'words' appear there. Now, it is your turn to make it better!\n",
    "\n",
    "## Your model\n",
    "\n",
    "**Part 1: Preprocessing**\n",
    "\n",
    "Show the effect of your preprocessing by also making a topic model for your preprocessed_movie_reviews. First, you make a bag-of-words model and then the LdaModel, as above. Feel free to go back to your preprocessing code above and update it based on what you saw from the show_topics function applied to the initial model.\n",
    "\n",
    "Try to make a model with 8 topics, and show the top 8 words for each topic. **Assign the model to a new variable with a sensible name** (avoid overwriting the previous models).\n",
    "\n",
    "Also for the dictionary and corpus, **give the variables different and expressive names to avoid overwriting the other ones**. Otherwise, you will get confused between your different topic models."
   ]
  },
  {
   "cell_type": "code",
   "execution_count": 13,
   "outputs": [
    {
     "name": "stdout",
     "output_type": "stream",
     "text": [
      "4.3.1\n"
     ]
    }
   ],
   "source": [
    "#Import the necessary libraries\n",
    "import gensim\n",
    "import gensim.corpora as corpora\n",
    "import gensim.models as models\n",
    "import itertools\n",
    "from operator import itemgetter\n",
    "print(gensim.__version__)"
   ],
   "metadata": {
    "collapsed": false
   }
  },
  {
   "cell_type": "code",
   "execution_count": 14,
   "outputs": [],
   "source": [
    "#Redefining the function so it only returns the processed reviews\n",
    "def preprocess_reviews(reviews): #define the preprocessing function that takes a list of reviews as argument\n",
    "   '''This function takes a list of reviews as input and returns a list of processed reviews\n",
    "   Input: list of reviews\n",
    "   Output: list of processed reviews'''\n",
    "    #initialize 2 empty lists\n",
    "    processed_reviews = [] #for processed reviews\n",
    "    unprocessed_reviews = [] #for unprocessedreviews\n",
    "\n",
    "    #load sets of NLTK stopwords and punctuation\n",
    "    stop_words = set(stopwords.words('english'))\n",
    "    punctuation = set(string.punctuation)\n",
    "\n",
    "    #initialize NLTK lemmatizer and stemmer\n",
    "    lemmatizer = WordNetLemmatizer()\n",
    "    stemmer = PorterStemmer()\n",
    "\n",
    "    #loop through each review in the list\n",
    "    for review in reviews:\n",
    "        #turn the list of words back into a string\n",
    "        review_str = ' '.join(review)\n",
    "\n",
    "        #perform text tokenization on the string\n",
    "        words = word_tokenize(review_str)\n",
    "\n",
    "        #list comprehension that performs multiple tasks\n",
    "        #converts each word to lowercase\n",
    "        #using if statement, check if a word is in the 'stopwords' or 'punctuation' set and filters them out\n",
    "        words = [word.lower() for word in words if word.lower() not in stop_words and word.lower() not in punctuation]\n",
    "        #Remove apostrophes\n",
    "        words = [word.replace(\"'\", \"\") for word in words]\n",
    "        # #Remove quotation marks\n",
    "        # words = [word.replace('\"', '') for word in words]\n",
    "        #Remove double dashes\n",
    "        words = [word.replace('--', '') for word in words]\n",
    "        #Remove empty strings\n",
    "        words = [word for word in words if word != '']\n",
    "        #perform lematization and stemming on each word\n",
    "        #words = [lemmatizer.lemmatize(stemmer.stem(word)) for word in words]\n",
    "\n",
    "        #add the processed review to the list\n",
    "        processed_reviews.append(words)\n",
    "\n",
    "        #add the unprocessed review to the list\n",
    "        unprocessed_reviews.append(review_str)\n",
    "\n",
    "    return processed_reviews"
   ],
   "metadata": {
    "collapsed": false
   }
  },
  {
   "cell_type": "code",
   "execution_count": 15,
   "metadata": {
    "id": "53Ut63ceDSHM"
   },
   "outputs": [
    {
     "name": "stdout",
     "output_type": "stream",
     "text": [
      "<class 'list'>\n"
     ]
    }
   ],
   "source": [
    "#Making a dictionary and a bag-of-words model for the preprocessed reviews\n",
    "processed_reviews = preprocess_reviews(movie_reviews)\n",
    "print(type(processed_reviews))\n",
    "processed_dictionary = corpora.Dictionary(processed_reviews)\n",
    "processed_bow_corpus = [processed_dictionary.doc2bow(d) for d in processed_reviews]"
   ]
  },
  {
   "cell_type": "code",
   "execution_count": 16,
   "outputs": [],
   "source": [
    "#Making a topic model for the preprocessed reviews with 8 topics and 25 passes\n",
    "processed_reviews_ldamodel = models.ldamodel.LdaModel(processed_bow_corpus, num_topics=8, id2word = processed_dictionary, passes=25)"
   ],
   "metadata": {
    "collapsed": false
   }
  },
  {
   "cell_type": "code",
   "execution_count": 17,
   "outputs": [
    {
     "data": {
      "text/plain": "[(0,\n  '0.006*\"s\" + 0.004*\"besson\" + 0.002*\"matilda\" + 0.002*\"egoyan\" + 0.002*\"film\" + 0.002*\"vampire\" + 0.002*\"life\" + 0.002*\"lola\"'),\n (1,\n  '0.022*\"s\" + 0.019*\"``\" + 0.016*\"film\" + 0.009*\"one\" + 0.007*\"nt\" + 0.005*\"movie\" + 0.004*\"like\" + 0.003*\"story\"'),\n (2,\n  '0.006*\"s\" + 0.004*\"54\" + 0.003*\"film\" + 0.003*\"movie\" + 0.002*\"ghost\" + 0.002*\"``\" + 0.002*\"carry\" + 0.002*\"dog\"'),\n (3,\n  '0.028*\"s\" + 0.010*\"film\" + 0.007*\"movie\" + 0.006*\"one\" + 0.006*\"nt\" + 0.006*\"``\" + 0.004*\"like\" + 0.003*\"character\"'),\n (4,\n  '0.023*\"s\" + 0.015*\"film\" + 0.013*\"``\" + 0.008*\"nt\" + 0.007*\"one\" + 0.006*\"movie\" + 0.005*\"like\" + 0.004*\"good\"'),\n (5,\n  '0.030*\"``\" + 0.026*\"s\" + 0.010*\"film\" + 0.008*\"nt\" + 0.007*\"movie\" + 0.006*\"one\" + 0.005*\"like\" + 0.003*\"would\"'),\n (6,\n  '0.004*\"vampire\" + 0.003*\"blade\" + 0.003*\"horizon\" + 0.002*\"event\" + 0.002*\"mickey\" + 0.002*\"vampires\" + 0.002*\"mallory\" + 0.002*\"erin\"'),\n (7,\n  '0.035*\"``\" + 0.023*\"s\" + 0.011*\"nt\" + 0.011*\"movie\" + 0.010*\"film\" + 0.008*\"one\" + 0.005*\"like\" + 0.004*\"even\"')]"
     },
     "execution_count": 17,
     "metadata": {},
     "output_type": "execute_result"
    }
   ],
   "source": [
    "#Show the top 8 words for each topic\n",
    "processed_reviews_ldamodel.show_topics(num_words=8)"
   ],
   "metadata": {
    "collapsed": false
   }
  },
  {
   "cell_type": "markdown",
   "metadata": {
    "id": "DsZyeQb_DSHN"
   },
   "source": [
    "**Part 2: Stopwords**\n",
    "\n",
    "The topics you saw so far are probably mostly made up of stopwords such as \"the\". As discussed in the lecture, our results will probably be more interesting if we get rid of them.\n",
    "\n",
    "We have included 3 generic lists of stopwords: the default list of the tool Mallet, a shorter frequent word list used in search applications (Snowball stemmer), and the top 10,000 words based on Google n-grams (in frequency order, select as many lines as you want). Gensim and NLTK also have stopword lists.\n",
    "\n",
    "Make a function that accepts the path to a stopwords file (e.g. `stopwords/standard-mallet-en.txt`), and returns a list of stopwords."
   ]
  },
  {
   "cell_type": "code",
   "execution_count": 18,
   "metadata": {
    "id": "wCDhfOCBDSHN"
   },
   "outputs": [],
   "source": [
    "def load_stopwords(filename):\n",
    "    '''Loads a list of stopwords from a file.\n",
    "    Input: filename: the path to the file\n",
    "        Output: stopword_list: a list of stopwords'''\n",
    "    stopword_list = []\n",
    "    with open(filename, 'r') as f:\n",
    "        for line in f:\n",
    "            stopword_list.append(line.strip())\n",
    "    return stopword_list\n",
    "\n",
    "stopword_list = load_stopwords(\"stopwords/google-n-top10000.txt\")"
   ]
  },
  {
   "cell_type": "markdown",
   "source": [],
   "metadata": {
    "collapsed": false
   }
  },
  {
   "cell_type": "markdown",
   "metadata": {
    "id": "ahYUzitcDSHN"
   },
   "source": [
    "Then, make a function that takes a stopword list and a list of reviews (e.g. `preprocessed_movie_reviews`). The function should remove all stopwords from all the reviews, returning a list of the reviews without stopwords. This code may be a bit slow if you have many stopwords, since there is a lot of data to process."
   ]
  },
  {
   "cell_type": "code",
   "execution_count": 19,
   "metadata": {
    "id": "rEZd3pZtDSHO"
   },
   "outputs": [],
   "source": [
    "#Loading the stopwords\n",
    "stopword_list = load_stopwords(\"stopwords/google-n-top10000.txt\")\n",
    "def filter_stopwords(stopword_list, movie_reviews):\n",
    "    '''Filters out stopwords from a list of reviews.\n",
    "    Input:\n",
    "        stopword_list: a list of stopwords\n",
    "        movie_reviews: a list of reviews, each review is a list of words\n",
    "    Output:\n",
    "        filtered_movie_reviews: a list of reviews, each review is a list of words\n",
    "    '''\n",
    "    filtered_movie_reviews = []\n",
    "    \n",
    "    for review in movie_reviews:\n",
    "        filtered_review = []\n",
    "        for word in review:\n",
    "            if word not in stopword_list:\n",
    "                filtered_review.append(word)\n",
    "        filtered_movie_reviews.append(filtered_review)\n",
    "    return filtered_movie_reviews\n",
    "#Calling the function\n",
    "filtered_movie_reviews = filter_stopwords(stopword_list, processed_reviews)"
   ]
  },
  {
   "cell_type": "markdown",
   "metadata": {
    "id": "wtE-HrNSDSHO"
   },
   "source": [
    "Lastly, let's make another topic model with this filtered data! Again, you make a bag-of-words model and then the LdaModel, as above.\n",
    "\n",
    "Try to make a model with 8 topics, and show the top 8 words for each topic. Assign the model to a new variable with a sensible name (avoid overwriting the previous models)."
   ]
  },
  {
   "cell_type": "code",
   "execution_count": 20,
   "metadata": {
    "id": "Gq2_8P9kDSHO"
   },
   "outputs": [],
   "source": [
    "#Making a dictionary and a bag-of-words model for the filtered reviews\n",
    "filtered_dictionary = corpora.Dictionary(filtered_movie_reviews)\n",
    "filtered_bow_corpus = [filtered_dictionary.doc2bow(d) for d in filtered_movie_reviews]"
   ]
  },
  {
   "cell_type": "code",
   "execution_count": 21,
   "outputs": [],
   "source": [
    "#Making a topic model for the filtered reviews\n",
    "filtered_reviews_ldamodel = models.ldamodel.LdaModel(filtered_bow_corpus, num_topics=8, id2word = filtered_dictionary, passes=25)"
   ],
   "metadata": {
    "collapsed": false
   }
  },
  {
   "cell_type": "code",
   "execution_count": 22,
   "outputs": [
    {
     "data": {
      "text/plain": "<Figure size 2000x1000 with 1 Axes>",
      "image/png": "[encoded data removed]"
     },
     "metadata": {},
     "output_type": "display_data"
    },
    {
     "name": "stdout",
     "output_type": "stream",
     "text": [
      "[(0,\n",
      "  '0.127*\"``\" + 0.003*\"scream\" + 0.003*\"2\" + 0.002*\"3\" + 0.002*\"screenplay\" + '\n",
      "  '0.002*\"woody\" + 0.001*\"suspense\" + 0.001*\"flick\" + 0.001*\"wo\" + '\n",
      "  '0.001*\"sequel\"'),\n",
      " (1,\n",
      "  '0.112*\"``\" + 0.001*\"nbsp\" + 0.001*\"apes\" + 0.001*\"filmmakers\" + 0.001*\"1\" + '\n",
      "  '0.001*\"aliens\" + 0.001*\"tarantino\" + 0.001*\"wo\" + 0.001*\"screenplay\" + '\n",
      "  '0.001*\"mulan\"'),\n",
      " (2,\n",
      "  '0.026*\"``\" + 0.005*\"tarzan\" + 0.003*\"sandler\" + 0.002*\"2\" + 0.002*\"54\" + '\n",
      "  '0.002*\"laughs\" + 0.002*\"boogie\" + 0.002*\"cauldron\" + 0.001*\"hedwig\" + '\n",
      "  '0.001*\"wcw\"'),\n",
      " (3,\n",
      "  '0.080*\"``\" + 0.005*\"truman\" + 0.003*\"carrey\" + 0.003*\"titanic\" + '\n",
      "  '0.002*\"flynt\" + 0.002*\"spawn\" + 0.002*\"lebowski\" + 0.001*\"2\" + '\n",
      "  '0.001*\"aliens\" + 0.001*\"screenplay\"'),\n",
      " (4,\n",
      "  '0.002*\"nello\" + 0.002*\"lola\" + 0.002*\"``\" + 0.002*\"laughs\" + 0.002*\"sid\" + '\n",
      "  '0.002*\"mob\" + 0.001*\"lynch\" + 0.001*\"stephane\" + 0.001*\"dune\" + '\n",
      "  '0.001*\"manages\"'),\n",
      " (5,\n",
      "  '0.031*\"``\" + 0.006*\"godzilla\" + 0.002*\"armageddon\" + 0.002*\"fugitive\" + '\n",
      "  '0.002*\"libby\" + 0.002*\"woo\" + 0.002*\"broderick\" + 0.002*\"screenplay\" + '\n",
      "  '0.001*\"wo\" + 0.001*\"1900\"'),\n",
      " (6,\n",
      "  '0.019*\"``\" + 0.003*\"mulan\" + 0.002*\"seagal\" + 0.002*\"krippendorf\" + '\n",
      "  '0.002*\"paulie\" + 0.002*\"2\" + 0.002*\"robocop\" + 0.002*\"manages\" + '\n",
      "  '0.002*\"stiller\" + 0.001*\"stallone\"'),\n",
      " (7,\n",
      "  '0.037*\"``\" + 0.002*\"damon\" + 0.002*\"troopers\" + 0.002*\"starship\" + '\n",
      "  '0.002*\"aliens\" + 0.002*\"melvin\" + 0.002*\"predictable\" + 0.002*\"bats\" + '\n",
      "  '0.002*\"premise\" + 0.002*\"seth\"')]\n"
     ]
    }
   ],
   "source": [
    "import pandas as pd\n",
    "import matplotlib.pyplot as plt\n",
    "from gensim.models import LdaModel\n",
    "from pprint import pprint\n",
    "\n",
    "# Get the topic distribution for each document in the corpus\n",
    "doc_topic_dist = []\n",
    "for i in range(len(filtered_bow_corpus)):\n",
    "    doc_topic_dist.append(dict(filtered_reviews_ldamodel.get_document_topics(filtered_bow_corpus[i])))\n",
    "\n",
    "# Create a Pandas dataframe with the topic distribution probabilities for each document\n",
    "df = pd.DataFrame(doc_topic_dist)\n",
    "\n",
    "# Add the document IDs to the dataframe\n",
    "df['doc_id'] = range(len(filtered_bow_corpus))\n",
    "\n",
    "# Set the document IDs as the index of the dataframe\n",
    "df.set_index('doc_id', inplace=True)\n",
    "\n",
    "# Plot the distribution of topics in the corpus\n",
    "df.plot(kind='bar', stacked=False, figsize=(20,10), colormap='Set2')\n",
    "plt.show()\n",
    "\n",
    "# PrettyPrint the topics using the print_topics() method\n",
    "pprint(filtered_reviews_ldamodel.print_topics(num_topics=8, num_words=10))"
   ],
   "metadata": {
    "collapsed": false
   }
  },
  {
   "cell_type": "markdown",
   "metadata": {
    "id": "ScVQuBtiDSHO"
   },
   "source": [
    "**Part 3: Experimentation**\n",
    "\n",
    "Are these general stopword lists sufficient? We are working in the movie review domain, meaning that we may have other uninformative stopwords than in the general domain, such as the word 'movie'. Some key experimentation is to add specific stopwords for the movie review domain, which would occur frequently in all (or most) of the clusters. Note that removing words will not just hide these words, but lead to (even very) different topics and different top ranked reviews.\n",
    "\n",
    "**Make your own domain-specific stopwords file** by taking one of the existing ones and adding your own stopwords (make sure that the stopword file is saved as a plain text file). Think about what stopwords are in this domain (e.g., the word film is not a stopword in general, but it will occur in essentially every film review).\n",
    "\n",
    "Re-use the functions you previously made to load your own stopwords file and filter the movie reviews. Then, make another topic model with your new filtering and show the top 8 words for each topic."
   ]
  },
  {
   "cell_type": "code",
   "execution_count": 23,
   "metadata": {
    "id": "t35Roxv2DSHO"
   },
   "outputs": [],
   "source": [
    "#Loading the stopwords that we made and filtering the reviews\n",
    "my_stopword_list = load_stopwords(\"stopwords/stopwords-empty.txt\")\n",
    "domainfiltered_movie_reviews = filter_stopwords(my_stopword_list, processed_reviews)"
   ]
  },
  {
   "cell_type": "code",
   "execution_count": 24,
   "outputs": [],
   "source": [
    "#Making a dictionary and a bag-of-words model for the domain filtered reviews\n",
    "domainfiltered_dictionary = corpora.Dictionary(domainfiltered_movie_reviews)\n",
    "domainfiltered_bow_corpus = [domainfiltered_dictionary.doc2bow(d) for d in domainfiltered_movie_reviews]"
   ],
   "metadata": {
    "collapsed": false
   }
  },
  {
   "cell_type": "code",
   "execution_count": 25,
   "outputs": [],
   "source": [
    "#Making a topic model for the domain filtered reviews\n",
    "domainfiltered_reviews_ldamodel = models.ldamodel.LdaModel(domainfiltered_bow_corpus, num_topics=8, id2word = domainfiltered_dictionary, passes=25)"
   ],
   "metadata": {
    "collapsed": false
   }
  },
  {
   "cell_type": "code",
   "execution_count": 26,
   "outputs": [
    {
     "data": {
      "text/plain": "<Figure size 2000x1000 with 1 Axes>",
      "image/png": "[encoded data removed]"
     },
     "metadata": {},
     "output_type": "display_data"
    },
    {
     "name": "stdout",
     "output_type": "stream",
     "text": [
      "[(0,\n",
      "  '0.023*\"s\" + 0.015*\"``\" + 0.007*\"one\" + 0.006*\"nt\" + 0.004*\"like\" + '\n",
      "  '0.004*\"life\" + 0.003*\"story\" + 0.003*\"also\" + 0.003*\"good\" + 0.003*\"even\"'),\n",
      " (1,\n",
      "  '0.027*\"s\" + 0.021*\"``\" + 0.010*\"nt\" + 0.008*\"one\" + 0.005*\"like\" + '\n",
      "  '0.004*\"would\" + 0.004*\"time\" + 0.004*\"even\" + 0.003*\"story\" + '\n",
      "  '0.003*\"character\"'),\n",
      " (2,\n",
      "  '0.021*\"s\" + 0.015*\"``\" + 0.007*\"one\" + 0.007*\"nt\" + 0.005*\"like\" + '\n",
      "  '0.003*\"good\" + 0.003*\"even\" + 0.003*\"two\" + 0.003*\"first\" + 0.003*\"also\"'),\n",
      " (3,\n",
      "  '0.054*\"``\" + 0.024*\"s\" + 0.009*\"nt\" + 0.007*\"one\" + 0.005*\"like\" + '\n",
      "  '0.004*\"even\" + 0.003*\"good\" + 0.003*\"time\" + 0.003*\"character\" + '\n",
      "  '0.003*\"story\"'),\n",
      " (4,\n",
      "  '0.005*\"s\" + 0.003*\"bulworth\" + 0.002*\"beatty\" + 0.002*\"derek\" + '\n",
      "  '0.002*\"vampire\" + 0.002*\"one\" + 0.002*\"bubby\" + 0.001*\"beavis\" + '\n",
      "  '0.001*\"gal\" + 0.001*\"vampires\"'),\n",
      " (5,\n",
      "  '0.018*\"s\" + 0.008*\"one\" + 0.007*\"``\" + 0.006*\"nt\" + 0.004*\"like\" + '\n",
      "  '0.004*\"good\" + 0.003*\"story\" + 0.003*\"action\" + 0.003*\"character\" + '\n",
      "  '0.003*\"would\"'),\n",
      " (6,\n",
      "  '0.024*\"s\" + 0.012*\"``\" + 0.006*\"nt\" + 0.004*\"one\" + 0.003*\"like\" + '\n",
      "  '0.003*\"life\" + 0.003*\"two\" + 0.003*\"characters\" + 0.002*\"new\" + '\n",
      "  '0.002*\"get\"'),\n",
      " (7,\n",
      "  '0.023*\"s\" + 0.018*\"``\" + 0.008*\"nt\" + 0.007*\"one\" + 0.005*\"like\" + '\n",
      "  '0.004*\"even\" + 0.004*\"time\" + 0.003*\"much\" + 0.003*\"good\" + 0.003*\"would\"')]\n"
     ]
    }
   ],
   "source": [
    "import pandas as pd\n",
    "import matplotlib.pyplot as plt\n",
    "from gensim.models import LdaModel\n",
    "from pprint import pprint\n",
    "# Get the topic distribution for each document in the corpus\n",
    "doc_topic_dist = []\n",
    "for i in range(len(domainfiltered_bow_corpus)):\n",
    "    doc_topic_dist.append(dict(domainfiltered_reviews_ldamodel.get_document_topics(domainfiltered_bow_corpus[i])))\n",
    "# Create a Pandas dataframe with the topic distribution probabilities for each document\n",
    "df = pd.DataFrame(doc_topic_dist)\n",
    "# Add the document IDs to the dataframe\n",
    "df['doc_id'] = range(len(domainfiltered_bow_corpus))\n",
    "# Set the document IDs as the index of the dataframe\n",
    "df.set_index('doc_id', inplace=True)\n",
    "# Plot the distribution of topics in the corpus\n",
    "df.plot(kind='bar', stacked=False, figsize=(20,10), colormap='Set2')\n",
    "plt.show()\n",
    "# Print the topics using the print_topics() method\n",
    "pprint(domainfiltered_reviews_ldamodel.print_topics(num_topics=8, num_words=10))"
   ],
   "metadata": {
    "collapsed": false
   }
  },
  {
   "cell_type": "markdown",
   "metadata": {
    "id": "f7_riA8FDSHP"
   },
   "source": [
    "Now, you should have 3 models (or more): one without any stopword filtering, one with the standard stopword filtering and one with the domain-filtered stopwords using the list you modified yourself. Compare the topics found by the three models (just looking at them is fine, no need to code a comparison).\n",
    "\n",
    "Do the topics look better with stopword filtering and with domain-specific stopword filtering? At this point, do the resulting topics correspond to particular film genres you have expected?"
   ]
  },
  {
   "cell_type": "markdown",
   "metadata": {
    "id": "IpKA43lCDSHP"
   },
   "source": [
    "### After trying multiple stopwords sets for filtering we came to the conclusion that the topics are the most coherent and clear when using   the Google nGram stopword list. The motivation for the effectiveness of this process is that in our case the Google nGram stopword list is the best at identifying the stopwords that we do not need in our analysis. Regarding the results , the topics do not correspond to particular film genres, but they rather give a general idea of what the main theme of the movie is or rather reflect in the results reviews of their viewers.\n"
   ]
  },
  {
   "cell_type": "markdown",
   "metadata": {
    "id": "XCmkC2jzDSHP"
   },
   "source": [
    "Increase the number of topics. What happens with the topics if you model very few or very many topics? (answer in a text box). Assign the model(s) to a new variable with a sensible name (avoid overwriting the previous models)."
   ]
  },
  {
   "cell_type": "code",
   "execution_count": 27,
   "metadata": {
    "id": "4CFnMTvBDSHP"
   },
   "outputs": [],
   "source": [
    "# Making a model with 12 topics for the filtered reviews\n",
    "filtered_reviews_ldamodel12 = models.ldamodel.LdaModel(filtered_bow_corpus, num_topics=12, id2word = filtered_dictionary, passes=25)"
   ]
  },
  {
   "cell_type": "code",
   "execution_count": 28,
   "outputs": [
    {
     "name": "stdout",
     "output_type": "stream",
     "text": [
      "[(0,\n",
      "  '0.010*\"spawn\" + 0.003*\"jedi\" + 0.003*\"sid\" + 0.002*\"``\" + 0.002*\"flynt\" + '\n",
      "  '0.002*\"garofalo\" + 0.002*\"geronimo\" + 0.002*\"hawtrey\" + 0.002*\"simmons\" + '\n",
      "  '0.002*\"vader\"'),\n",
      " (1,\n",
      "  '0.072*\"``\" + 0.002*\"bats\" + 0.002*\"stallone\" + 0.002*\"hanks\" + '\n",
      "  '0.002*\"screenplay\" + 0.002*\"gloria\" + 0.001*\"mickey\" + 0.001*\"enjoyable\" + '\n",
      "  '0.001*\"egoyan\" + 0.001*\"premise\"'),\n",
      " (2,\n",
      "  '0.028*\"``\" + 0.006*\"titanic\" + 0.002*\"scorsese\" + 0.002*\"winslet\" + '\n",
      "  '0.002*\"1\" + 0.002*\"besson\" + 0.002*\"guido\" + 0.002*\"enjoyable\" + '\n",
      "  '0.002*\"benigni\" + 0.002*\"spielberg\"'),\n",
      " (3,\n",
      "  '0.062*\"``\" + 0.008*\"scream\" + 0.006*\"2\" + 0.005*\"tarzan\" + 0.003*\"3\" + '\n",
      "  '0.002*\"sidney\" + 0.002*\"melvin\" + 0.002*\"screenplay\" + 0.002*\"sequel\" + '\n",
      "  '0.002*\"woody\"'),\n",
      " (4,\n",
      "  '0.134*\"``\" + 0.002*\"travolta\" + 0.002*\"seagal\" + 0.002*\"aliens\" + 0.002*\"1\" '\n",
      "  '+ 0.002*\"2\" + 0.002*\"screenplay\" + 0.001*\"manages\" + 0.001*\"mulan\" + '\n",
      "  '0.001*\"filmmakers\"'),\n",
      " (5,\n",
      "  '0.040*\"``\" + 0.009*\"truman\" + 0.004*\"carrey\" + 0.002*\"cauldron\" + '\n",
      "  '0.002*\"libby\" + 0.002*\"spielberg\" + 0.002*\"drunken\" + 0.002*\"amistad\" + '\n",
      "  '0.002*\"matilda\" + 0.002*\"2\"'),\n",
      " (6,\n",
      "  '0.013*\"``\" + 0.008*\"vampires\" + 0.006*\"shrek\" + 0.006*\"bulworth\" + '\n",
      "  '0.005*\"apes\" + 0.004*\"carpenter\" + 0.003*\"beatty\" + 0.002*\"donkey\" + '\n",
      "  '0.002*\"fiona\" + 0.002*\"farquaad\"'),\n",
      " (7,\n",
      "  '0.040*\"``\" + 0.003*\"paltrow\" + 0.002*\"gattaca\" + 0.002*\"damme\" + '\n",
      "  '0.002*\"gwyneth\" + 0.002*\"lynch\" + 0.002*\"woo\" + 0.002*\"2\" + 0.001*\"robocop\" '\n",
      "  '+ 0.001*\"loser\"'),\n",
      " (8,\n",
      "  '0.011*\"tarantino\" + 0.008*\"``\" + 0.006*\"ordell\" + 0.005*\"pulp\" + '\n",
      "  '0.003*\"quentin\" + 0.003*\"grier\" + 0.002*\"niro\" + 0.002*\"twister\" + '\n",
      "  '0.002*\"fonda\" + 0.002*\"amusing\"'),\n",
      " (9,\n",
      "  '0.119*\"``\" + 0.003*\"godzilla\" + 0.002*\"wo\" + 0.002*\"menace\" + '\n",
      "  '0.001*\"premise\" + 0.001*\"flynt\" + 0.001*\"jedi\" + 0.001*\"laughs\" + '\n",
      "  '0.001*\"lebowski\" + 0.001*\"manages\"'),\n",
      " (10,\n",
      "  '0.106*\"``\" + 0.002*\"troopers\" + 0.002*\"starship\" + 0.002*\"willis\" + '\n",
      "  '0.001*\"wo\" + 0.001*\"mulan\" + 0.001*\"krippendorf\" + 0.001*\"armageddon\" + '\n",
      "  '0.001*\"verhoeven\" + 0.001*\"jackal\"'),\n",
      " (11,\n",
      "  '0.014*\"``\" + 0.006*\"ripley\" + 0.006*\"aliens\" + 0.005*\"nbsp\" + 0.004*\"3\" + '\n",
      "  '0.002*\"boogie\" + 0.002*\"suspense\" + 0.002*\"erin\" + 0.002*\"manages\" + '\n",
      "  '0.002*\"weaver\"')]\n"
     ]
    }
   ],
   "source": [
    "# Print the topics using the print_topics() method\n",
    "pprint(filtered_reviews_ldamodel12.print_topics(num_topics=12, num_words=10))"
   ],
   "metadata": {
    "collapsed": false
   }
  },
  {
   "cell_type": "markdown",
   "metadata": {
    "id": "etSVcTzUDSHP"
   },
   "source": [
    "#### After trying multiple stopword lists and other parameters, we came to the following conclusions regarding how the results change;  If one is  increasing or decreasing the topics numbers.\n",
    "* Firstly, if we increase the number of topics the model will automatically try to find very diverse themes in the overall corpus, being able to focus and uncover more precise topics.\n",
    "* Regardless, if the topic number is TOO high it might affect the process since the model might create too specific and very particular topics leading to complex results.\n",
    "#### On the other hand, if we decrease the number of topics the model  will try to find more general themes in the overall corpus, being able to group together more themes; However, if the topic number is TOO low the model might not be able to efficiently categorise them potentially excluding very important patterns or details.\n",
    "#### Our conclusions also after testing the code in the following exercise was that the ideal number of topics and words depends of every particular case  and in our situations the ratio of 12 topics and 10 words was the most efficient one.\n"
   ]
  },
  {
   "cell_type": "code",
   "execution_count": 29,
   "outputs": [],
   "source": [
    "# Making a model with 2 topics for the filtered reviews\n",
    "filtered_reviews_ldamodel2 = models.ldamodel.LdaModel(filtered_bow_corpus, num_topics=2, id2word = filtered_dictionary, passes=25)"
   ],
   "metadata": {
    "collapsed": false
   }
  },
  {
   "cell_type": "code",
   "execution_count": 35,
   "outputs": [
    {
     "name": "stdout",
     "output_type": "stream",
     "text": [
      "[(0,\n",
      "  '0.036*\"``\" + 0.002*\"truman\" + 0.001*\"screenplay\" + 0.001*\"2\" + '\n",
      "  '0.001*\"manages\" + 0.001*\"laughs\" + 0.001*\"hilarious\" + 0.001*\"wo\" + '\n",
      "  '0.001*\"premise\" + 0.001*\"surprisingly\"'),\n",
      " (1,\n",
      "  '0.104*\"``\" + 0.002*\"2\" + 0.002*\"scream\" + 0.001*\"aliens\" + 0.001*\"wo\" + '\n",
      "  '0.001*\"screenplay\" + 0.001*\"sequel\" + 0.001*\"3\" + 0.001*\"1\" + '\n",
      "  '0.001*\"manages\"')]\n"
     ]
    }
   ],
   "source": [
    "# Print the topics using the print_topics() method\n",
    "pprint(filtered_reviews_ldamodel2.print_topics(num_topics=2, num_words=10))"
   ],
   "metadata": {
    "collapsed": false
   }
  },
  {
   "cell_type": "markdown",
   "metadata": {
    "id": "rqbGIgpADSHP"
   },
   "source": [
    "Increase the number of topic words printed to get more information per topic.  Is it easier to make sense of a topic if you look further down the list, or are the initial words more clear?"
   ]
  },
  {
   "cell_type": "code",
   "execution_count": 30,
   "metadata": {
    "id": "5664o6MYDSHQ"
   },
   "outputs": [
    {
     "name": "stdout",
     "output_type": "stream",
     "text": [
      "[(0,\n",
      "  '0.127*\"``\" + 0.003*\"scream\" + 0.003*\"2\" + 0.002*\"3\" + 0.002*\"screenplay\" + '\n",
      "  '0.002*\"woody\" + 0.001*\"suspense\" + 0.001*\"flick\" + 0.001*\"wo\" + '\n",
      "  '0.001*\"sequel\" + 0.001*\"menace\" + 0.001*\"jedi\" + 0.001*\"hanks\" + 0.001*\"1\" '\n",
      "  '+ 0.001*\"clever\" + 0.001*\"villain\" + 0.001*\"premise\" + 0.001*\"shrek\" + '\n",
      "  '0.001*\"1999\" + 0.001*\"willis\"'),\n",
      " (1,\n",
      "  '0.112*\"``\" + 0.001*\"nbsp\" + 0.001*\"apes\" + 0.001*\"filmmakers\" + 0.001*\"1\" + '\n",
      "  '0.001*\"aliens\" + 0.001*\"tarantino\" + 0.001*\"wo\" + 0.001*\"screenplay\" + '\n",
      "  '0.001*\"mulan\" + 0.001*\"manages\" + 0.001*\"villain\" + 0.001*\"laughs\" + '\n",
      "  '0.001*\"pulp\" + 0.001*\"2\" + 0.001*\"enjoyable\" + 0.001*\"ordell\" + '\n",
      "  '0.001*\"hilarious\" + 0.001*\"flick\" + 0.001*\"jolie\"'),\n",
      " (2,\n",
      "  '0.026*\"``\" + 0.005*\"tarzan\" + 0.003*\"sandler\" + 0.002*\"2\" + 0.002*\"54\" + '\n",
      "  '0.002*\"laughs\" + 0.002*\"boogie\" + 0.002*\"cauldron\" + 0.001*\"hedwig\" + '\n",
      "  '0.001*\"wcw\" + 0.001*\"manages\" + 0.001*\"bulworth\" + 0.001*\"hilarious\" + '\n",
      "  '0.001*\"jakob\" + 0.001*\"apes\" + 0.001*\"ape\" + 0.001*\"taran\" + 0.001*\"shane\" '\n",
      "  '+ 0.001*\"unfunny\" + 0.001*\"willis\"'),\n",
      " (3,\n",
      "  '0.080*\"``\" + 0.005*\"truman\" + 0.003*\"carrey\" + 0.003*\"titanic\" + '\n",
      "  '0.002*\"flynt\" + 0.002*\"spawn\" + 0.002*\"lebowski\" + 0.001*\"2\" + '\n",
      "  '0.001*\"aliens\" + 0.001*\"screenplay\" + 0.001*\"sequel\" + 0.001*\"hilarious\" + '\n",
      "  '0.001*\"3\" + 0.001*\"vampires\" + 0.001*\"decides\" + 0.001*\"clever\" + '\n",
      "  '0.001*\"filmmakers\" + 0.001*\"wo\" + 0.001*\"carlito\" + 0.001*\"lynch\"'),\n",
      " (4,\n",
      "  '0.002*\"nello\" + 0.002*\"lola\" + 0.002*\"``\" + 0.002*\"laughs\" + 0.002*\"sid\" + '\n",
      "  '0.002*\"mob\" + 0.001*\"lynch\" + 0.001*\"stephane\" + 0.001*\"dune\" + '\n",
      "  '0.001*\"manages\" + 0.001*\"grease\" + 0.001*\"doubtfire\" + 0.001*\"hawtrey\" + '\n",
      "  '0.001*\"audiences\" + 0.001*\"flanders\" + 0.001*\"bookseller\" + 0.001*\"zach\" + '\n",
      "  '0.001*\"ricci\" + 0.001*\"groundhog\" + 0.001*\"jacques\"'),\n",
      " (5,\n",
      "  '0.031*\"``\" + 0.006*\"godzilla\" + 0.002*\"armageddon\" + 0.002*\"fugitive\" + '\n",
      "  '0.002*\"libby\" + 0.002*\"woo\" + 0.002*\"broderick\" + 0.002*\"screenplay\" + '\n",
      "  '0.001*\"wo\" + 0.001*\"1900\" + 0.001*\"1\" + 0.001*\"judd\" + 0.001*\"kiki\" + '\n",
      "  '0.001*\"asteroid\" + 0.001*\"audiences\" + 0.001*\"decides\" + 0.001*\"tarantino\" '\n",
      "  '+ 0.001*\"willis\" + 0.001*\"sammy\" + 0.001*\"comet\"'),\n",
      " (6,\n",
      "  '0.019*\"``\" + 0.003*\"mulan\" + 0.002*\"seagal\" + 0.002*\"krippendorf\" + '\n",
      "  '0.002*\"paulie\" + 0.002*\"2\" + 0.002*\"robocop\" + 0.002*\"manages\" + '\n",
      "  '0.002*\"stiller\" + 0.001*\"stallone\" + 0.001*\"premise\" + 0.001*\"screenplay\" + '\n",
      "  '0.001*\"villain\" + 0.001*\"vampires\" + 0.001*\"momma\" + 0.001*\"woody\" + '\n",
      "  '0.001*\"reeves\" + 0.001*\"convincing\" + 0.001*\"frankenstein\" + '\n",
      "  '0.001*\"dreyfuss\"'),\n",
      " (7,\n",
      "  '0.037*\"``\" + 0.002*\"damon\" + 0.002*\"troopers\" + 0.002*\"starship\" + '\n",
      "  '0.002*\"aliens\" + 0.002*\"melvin\" + 0.002*\"predictable\" + 0.002*\"bats\" + '\n",
      "  '0.002*\"premise\" + 0.002*\"seth\" + 0.001*\"sci-fi\" + 0.001*\"affleck\" + '\n",
      "  '0.001*\"tarantino\" + 0.001*\"leila\" + 0.001*\"manages\" + 0.001*\"suspense\" + '\n",
      "  '0.001*\"gattaca\" + 0.001*\"lambeau\" + 0.001*\"audiences\" + 0.001*\"freeman\"')]\n"
     ]
    }
   ],
   "source": [
    "# Print the topics using the print_topics() method with 20 words\n",
    "pprint(filtered_reviews_ldamodel.print_topics(num_topics=12, num_words=20))"
   ]
  },
  {
   "cell_type": "markdown",
   "metadata": {
    "id": "Kn2iu3hpDSHQ"
   },
   "source": [
    "### If we were to think about the general situation, increasing the number of topics  would usually mean we would get more specific information on each topic. Concomitantly, this process could also lead to the model including words that may be not relevant to the topic.\n",
    "### Considering this, and taking into account the results for our specific model we would argue that the initial words of each topic are providing relevant clear and personalized description of the general theme. In contrast , looking at the lower-ranked they could be an indication for more context and detail. To make things more clear, if we take the example of Topic 0, the first words: \"scream\" and  \"sidney\" could suggest a review related to the movie \"Scream\". Looking more into further detail, words like \"williamson', \"sequel\" or \"craven\" reinforce the idea that indeed the topic is making reference to the \"Scream\" series.\n",
    "### Lastly, going back to the initial question, there is no absolute answer to establish  whether it is easier to make sense of a topic by looking further down the list or if the initial words are more clear."
   ]
  },
  {
   "cell_type": "markdown",
   "metadata": {
    "id": "ZRmu7p7RDSHQ"
   },
   "source": [
    "If you are interested, you can also experiment with the difference between positive and negative reviews."
   ]
  },
  {
   "cell_type": "markdown",
   "metadata": {
    "id": "tnyB5hCglXeB",
    "tags": []
   },
   "source": [
    "### Part 4: Evaluation\n",
    "\n",
    "There are a few numbers we can compute that indicate the quality of a topic model, such as [perplexity and coherence](https://github.com/ccs-amsterdam/r-course-material/blob/master/tutorials/R_text_LDA_perplexity.md). For perplexity, a lower number means a better model, and for coherence, a higher number is better. Try computing these scores for your models, and see which is the best one according to the numbers\n",
    "\n",
    "In a real project, you should compute these numbers over a separate part of the dataset (the test set) for a proper evaluation, but for simplicity and because we have not talked about this in the lecture we will skip that here."
   ]
  },
  {
   "cell_type": "code",
   "execution_count": 37,
   "metadata": {
    "id": "mpBAw3heDSHQ"
   },
   "outputs": [
    {
     "name": "stdout",
     "output_type": "stream",
     "text": [
      "Perplexity:  -7.015672631914624\n",
      "Coherence score:  0.3354387302769207\n"
     ]
    }
   ],
   "source": [
    "from gensim.models import CoherenceModel\n",
    "\n",
    "#Compute perplexity for the basic model on the bag-of-words representation of the reviews:\n",
    "print('Perplexity: ', reviews_ldamodel.log_perplexity(movie_bow_corpus))  \n",
    "\n",
    "# Compute coherence score on the same:\n",
    "coherence_model_lda = CoherenceModel(model=reviews_ldamodel, texts=movie_reviews, dictionary=movie_dictionary, coherence='c_v')\n",
    "coherence_lda = coherence_model_lda.get_coherence()\n",
    "print('Coherence score: ', coherence_lda)"
   ]
  },
  {
   "cell_type": "code",
   "execution_count": 39,
   "metadata": {
    "id": "exyMPDNyDSHR"
   },
   "outputs": [
    {
     "name": "stdout",
     "output_type": "stream",
     "text": [
      "Perplexity:  -9.42501192063905\n",
      "Coherence score:  0.4470925217378461\n"
     ]
    }
   ],
   "source": [
    "#Computing the perplexity and coherence score for the filtered model\n",
    "print('Perplexity: ', filtered_reviews_ldamodel.log_perplexity(filtered_bow_corpus))\n",
    "coherence_model_lda = CoherenceModel(model=filtered_reviews_ldamodel, texts=filtered_movie_reviews, dictionary=filtered_dictionary, coherence='c_v')\n",
    "coherence_lda = coherence_model_lda.get_coherence()\n",
    "print('Coherence score: ', coherence_lda)"
   ]
  },
  {
   "cell_type": "markdown",
   "source": [
    "### As you can see this model has the best 'numbers'"
   ],
   "metadata": {
    "collapsed": false
   }
  },
  {
   "cell_type": "code",
   "execution_count": 42,
   "outputs": [
    {
     "name": "stdout",
     "output_type": "stream",
     "text": [
      "Perplexity:  -8.78961775745196\n",
      "Coherence score:  0.259173824807445\n"
     ]
    }
   ],
   "source": [
    "#Computing the perplexity and coherence score for the domain filtered model\n",
    "print('Perplexity: ', domainfiltered_reviews_ldamodel.log_perplexity(domainfiltered_bow_corpus))\n",
    "coherence_model_lda = CoherenceModel(model=domainfiltered_reviews_ldamodel, texts=domainfiltered_movie_reviews, dictionary=domainfiltered_dictionary, coherence='c_v')\n",
    "coherence_lda = coherence_model_lda.get_coherence()\n",
    "print('Coherence score: ', coherence_lda)"
   ],
   "metadata": {
    "collapsed": false
   }
  },
  {
   "cell_type": "markdown",
   "metadata": {
    "id": "gmygefS8DSHR"
   },
   "source": [
    "However, just comparing numbers is not very interpretable. We will choose our topic model with the highest coherence score and validate the evaluation.\n",
    "\n",
    "Using the top 20 topic words for each topic in the model with the highest coherence score, pick at least 5 topic numbers and determine what film genres (in an informal sense) they represent, i.e. think of a meaningful label for the topic. Write down the topic number and your topic label. Is it easy to guess what the topic represents? For how many topics are you fairly confident, for how many do you have to make a guess, and for how many do you have no real clue."
   ]
  },
  {
   "cell_type": "markdown",
   "metadata": {
    "id": "GN6pQWsYDSHR"
   },
   "source": []
  },
  {
   "cell_type": "raw",
   "metadata": {
    "id": "-q6ovLqzDSHR"
   },
   "source": [
    "To validate your guessed topic label, we could check the probability that the word you chose as a label belongs to each topic. We could do that using the get_term_topics method. For example, the code below checks the probability of the word \"the\" for each topic in the `reviews_ldamodel` model:"
   ]
  },
  {
   "cell_type": "code",
   "execution_count": 19,
   "metadata": {
    "id": "6Ha7gf5NDSHR"
   },
   "outputs": [
    {
     "data": {
      "text/plain": "[(0, 0.055921294), (1, 0.03749197), (3, 0.04851789)]"
     },
     "execution_count": 19,
     "metadata": {},
     "output_type": "execute_result"
    }
   ],
   "source": [
    "reviews_ldamodel.get_term_topics(\"the\", minimum_probability = 1e-3)"
   ]
  },
  {
   "cell_type": "markdown",
   "metadata": {
    "id": "smFicDGaDSHR"
   },
   "source": [
    "Do this for your own best model and the labels you just picked. For each of your topic labels, if the probability for the label is the highest for the topic number you wrote down, your guess was probably correct. Did you guess a suitable label for every topic?"
   ]
  },
  {
   "cell_type": "code",
   "execution_count": 57,
   "metadata": {
    "id": "Fx45gKC8DSHS"
   },
   "outputs": [
    {
     "data": {
      "text/plain": "[(0, 0.0010752442), (6, 0.0011487443)]"
     },
     "execution_count": 57,
     "metadata": {},
     "output_type": "execute_result"
    }
   ],
   "source": [
    "#replace the word \"the\" with the label\n",
    "filtered_reviews_ldamodel.get_term_topics(\"villain\", minimum_probability = 1e-3)"
   ]
  },
  {
   "cell_type": "markdown",
   "metadata": {
    "id": "ereUYlD4DSHS"
   },
   "source": [
    "The model is not able to identify the genre of the review, but it is able to identify the word \"villain\" as a topic. This is because the word \"villain\" is a word in the reviews, so it is very likely to be assigned to a topic."
   ]
  },
  {
   "cell_type": "code",
   "execution_count": 59,
   "outputs": [
    {
     "ename": "IndexError",
     "evalue": "list index out of range",
     "output_type": "error",
     "traceback": [
      "\u001B[0;31m---------------------------------------------------------------------------\u001B[0m",
      "\u001B[0;31mIndexError\u001B[0m                                Traceback (most recent call last)",
      "Cell \u001B[0;32mIn[59], line 2\u001B[0m\n\u001B[1;32m      1\u001B[0m \u001B[38;5;66;03m#replace the word \"the\" with the label\u001B[39;00m\n\u001B[0;32m----> 2\u001B[0m \u001B[43mfiltered_reviews_ldamodel\u001B[49m\u001B[38;5;241;43m.\u001B[39;49m\u001B[43mget_term_topics\u001B[49m\u001B[43m(\u001B[49m\u001B[38;5;124;43m\"\u001B[39;49m\u001B[38;5;124;43mhorror\u001B[39;49m\u001B[38;5;124;43m\"\u001B[39;49m\u001B[43m,\u001B[49m\u001B[43m \u001B[49m\u001B[43mminimum_probability\u001B[49m\u001B[43m \u001B[49m\u001B[38;5;241;43m=\u001B[39;49m\u001B[43m \u001B[49m\u001B[38;5;241;43m1e-3\u001B[39;49m\u001B[43m)\u001B[49m\n",
      "File \u001B[0;32m~/Desktop/Uni/Development/DDR23/venv/lib/python3.10/site-packages/gensim/models/ldamodel.py:1410\u001B[0m, in \u001B[0;36mLdaModel.get_term_topics\u001B[0;34m(self, word_id, minimum_probability)\u001B[0m\n\u001B[1;32m   1408\u001B[0m \u001B[38;5;66;03m# if user enters word instead of id in vocab, change to get id\u001B[39;00m\n\u001B[1;32m   1409\u001B[0m \u001B[38;5;28;01mif\u001B[39;00m \u001B[38;5;28misinstance\u001B[39m(word_id, \u001B[38;5;28mstr\u001B[39m):\n\u001B[0;32m-> 1410\u001B[0m     word_id \u001B[38;5;241m=\u001B[39m \u001B[38;5;28;43mself\u001B[39;49m\u001B[38;5;241;43m.\u001B[39;49m\u001B[43mid2word\u001B[49m\u001B[38;5;241;43m.\u001B[39;49m\u001B[43mdoc2bow\u001B[49m\u001B[43m(\u001B[49m\u001B[43m[\u001B[49m\u001B[43mword_id\u001B[49m\u001B[43m]\u001B[49m\u001B[43m)\u001B[49m\u001B[43m[\u001B[49m\u001B[38;5;241;43m0\u001B[39;49m\u001B[43m]\u001B[49m[\u001B[38;5;241m0\u001B[39m]\n\u001B[1;32m   1412\u001B[0m values \u001B[38;5;241m=\u001B[39m []\n\u001B[1;32m   1413\u001B[0m \u001B[38;5;28;01mfor\u001B[39;00m topic_id \u001B[38;5;129;01min\u001B[39;00m \u001B[38;5;28mrange\u001B[39m(\u001B[38;5;241m0\u001B[39m, \u001B[38;5;28mself\u001B[39m\u001B[38;5;241m.\u001B[39mnum_topics):\n",
      "\u001B[0;31mIndexError\u001B[0m: list index out of range"
     ]
    }
   ],
   "source": [
    "#replace the word \"the\" with the label\n",
    "filtered_reviews_ldamodel.get_term_topics(\"horror\", minimum_probability = 1e-3)"
   ],
   "metadata": {
    "collapsed": false
   }
  },
  {
   "cell_type": "markdown",
   "metadata": {
    "id": "Ih-P9Zx9DSHS"
   },
   "source": [
    "In a real project, you would also want to validate your topics by examining the reviews that are most strongly associated with that topic. You can see what documents have what topics using the get_document_topics() method. Here we look at the topics for the first document in the model (change the name of the model to yours):"
   ]
  },
  {
   "cell_type": "code",
   "execution_count": 20,
   "metadata": {
    "id": "3Hw65hKjDSHS"
   },
   "outputs": [
    {
     "data": {
      "text/plain": "[(0, 0.5992486),\n (1, 0.40010813),\n (2, 0.00021273903),\n (3, 0.00021792643),\n (4, 0.0002126372)]"
     },
     "execution_count": 20,
     "metadata": {},
     "output_type": "execute_result"
    }
   ],
   "source": [
    "reviews_ldamodel.get_document_topics(movie_bow_corpus[0], minimum_probability = 0)"
   ]
  },
  {
   "cell_type": "markdown",
   "metadata": {
    "id": "CXsK3vuFDSHS"
   },
   "source": [
    "Or for the first 20 of them:"
   ]
  },
  {
   "cell_type": "code",
   "execution_count": 21,
   "metadata": {
    "id": "sXWGepuODSHS"
   },
   "outputs": [
    {
     "name": "stdout",
     "output_type": "stream",
     "text": [
      "Topics for the review cv839_21467.txt: [(0, 0.5985771), (1, 0.40077963)]\n",
      "Topics for the review cv034_29647.txt: [(0, 0.18439762), (1, 0.40318063), (3, 0.41190264)]\n",
      "Topics for the review cv908_16009.txt: [(0, 0.9667906), (1, 0.030888526)]\n",
      "Topics for the review cv748_12786.txt: [(0, 0.31601787), (3, 0.682003)]\n",
      "Topics for the review cv253_10077.txt: [(0, 0.49870333), (1, 0.23407167), (3, 0.26602477)]\n",
      "Topics for the review cv147_21193.txt: [(0, 0.3862265), (1, 0.33833292), (3, 0.27503145)]\n",
      "Topics for the review cv962_9803.txt: [(0, 0.9985889)]\n",
      "Topics for the review cv686_13900.txt: [(0, 0.5576557), (1, 0.032713193), (3, 0.40825292)]\n",
      "Topics for the review cv410_24266.txt: [(0, 0.12192893), (1, 0.031952072), (3, 0.8457637)]\n",
      "Topics for the review cv913_29252.txt: [(0, 0.39579576), (1, 0.2547448), (3, 0.34902528)]\n",
      "Topics for the review cv695_21108.txt: [(0, 0.102962166), (1, 0.010149761), (3, 0.8863889)]\n",
      "Topics for the review cv601_23453.txt: [(0, 0.9511697), (1, 0.048518524)]\n",
      "Topics for the review cv490_17872.txt: [(0, 0.8992462), (1, 0.10028597)]\n",
      "Topics for the review cv518_13331.txt: [(0, 0.90481216), (3, 0.094526865)]\n",
      "Topics for the review cv157_29372.txt: [(0, 0.9915624)]\n",
      "Topics for the review cv570_29082.txt: [(3, 0.9961976)]\n",
      "Topics for the review cv289_6463.txt: [(0, 0.7206211), (3, 0.27852067)]\n",
      "Topics for the review cv098_15435.txt: [(0, 0.13413829), (1, 0.8577513)]\n",
      "Topics for the review cv656_24201.txt: [(0, 0.6716602), (2, 0.024783093), (3, 0.30280557)]\n",
      "Topics for the review cv878_15694.txt: [(0, 0.61400145), (1, 0.10330761), (3, 0.28221273)]\n"
     ]
    }
   ],
   "source": [
    "for i, doc_topics in enumerate(reviews_ldamodel.get_document_topics(movie_bow_corpus)):\n",
    "    if i >= 20:\n",
    "        break\n",
    "    print(f\"Topics for the review {movie_reviewnames[i]}: {doc_topics}\")"
   ]
  },
  {
   "cell_type": "markdown",
   "metadata": {
    "id": "ocjYhiGzDSHS"
   },
   "source": [
    "But this assignment is already long enough so I will not ask you to report on this too!\n"
   ]
  },
  {
   "cell_type": "markdown",
   "source": [
    "Thank You :)\n"
   ],
   "metadata": {
    "collapsed": false
   }
  }
 ],
 "metadata": {
  "colab": {
   "provenance": []
  },
  "kernelspec": {
   "display_name": "Python 3 (ipykernel)",
   "language": "python",
   "name": "python3"
  },
  "language_info": {
   "codemirror_mode": {
    "name": "ipython",
    "version": 3
   },
   "file_extension": ".py",
   "mimetype": "text/x-python",
   "name": "python",
   "nbconvert_exporter": "python",
   "pygments_lexer": "ipython3",
   "version": "3.8.10"
  }
 },
 "nbformat": 4,
 "nbformat_minor": 0
}
